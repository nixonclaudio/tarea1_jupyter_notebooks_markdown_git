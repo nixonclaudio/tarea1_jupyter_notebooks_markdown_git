{
 "cells": [
  {
   "attachments": {},
   "cell_type": "markdown",
   "metadata": {},
   "source": [
    "![Logo galileo](https://www.google.com/search?q=logo+galileo&sxsrf=AJOqlzVertNRnjHGGAck1ccYxI7zDgd1Ww:1676254577462&source=lnms&tbm=isch&sa=X&ved=2ahUKEwjK65H1tpH9AhXOibAFHWUyCNsQ_AUoAXoECAEQAw&biw=1280&bih=824&dpr=1#imgrc=pLA5TK_oXRtuDM)"
   ]
  },
  {
   "attachments": {},
   "cell_type": "markdown",
   "metadata": {},
   "source": [
    "### Universidad Galileo \n",
    "### Postgrado en Análisis y predicción de Datos\n",
    "### Ciencia de Datos en Python\n",
    "### Nixon Armando López Claudio \n",
    "### Hoja de Trabajo #1 - Jupyter Notebooks, Markdown y Git"
   ]
  },
  {
   "attachments": {},
   "cell_type": "markdown",
   "metadata": {},
   "source": [
    "<h1><center> Ensayo / Resumen Git - GitHub </center></h1>"
   ]
  },
  {
   "attachments": {},
   "cell_type": "markdown",
   "metadata": {},
   "source": [
    "### Introducción"
   ]
  },
  {
   "attachments": {},
   "cell_type": "markdown",
   "metadata": {},
   "source": [
    "<blockquote> En muchas ocasiones las personas a nivel personal se enfrentan a un mundo del orden y desorden, es decir que el orden es es de bien para el ser humano y el desorden es malo a nivel mental, a nivel programación, derivado que el mundo ha evolucionado, por la globalización, es necesario estar en constante actualización, cabe destacar que si el ser humano mantiene un ambiente de orden su funcionalidad y forma de actuar será más efectiva y eficiente para mantener una optimización a nivel personal.\n",
    "\n",
    "Al darle relación a este trabajo, es importante mencionar que el enfoque es la realización de un _*Ensayo - Resumen Git - GitHub*_, cabe destacar que Git significa un ***Sistema de Control de Versiones**, y sobre esto será el enfoque principal del ensayo.<blockquote> \n"
   ]
  },
  {
   "attachments": {},
   "cell_type": "markdown",
   "metadata": {},
   "source": [
    "### ¿Qué es un Sistema de Control de Versiones?"
   ]
  },
  {
   "attachments": {},
   "cell_type": "markdown",
   "metadata": {},
   "source": [
    ">De acuerdo a información obtenida en (https://kinsta.com/blog/wordpress-version-control/)  mencionan que un sistema de control de versiones de WordPress ayuda a rastrear los cambios en el sitio mencionado para monitorear lo que sucede y revertir los cambios si es necesario, los cambios pueden ser ajustables, modificados y actualizados a la vez para tener un control deinámico de los documentos o cambios que se vayan agregando dentro de un repositorio. \n",
    "\n",
    ">Ahora bien, desde el punto de vista de la programación o código que se desee escribir en leguajes de programación como Python, Java, C++; entre otros, dentro de lo indicado en la clase _Version Control (git)_ en (https://missing.csail.mit.edu/2020/version-control/), indican que \"Los sistemas de control de versiones son herramientas que se utilizan para realizar un seguimiento de los cambios en código fuente y cualquier colección de archivos y carpetas. Como su nombre lo indica, estas herramientas ayudan a mantener un historial de cambios; que facilitan la colaboración, se realiza un seguimiento de los cambios; en el código por ejemplo, y el contenido en una serie de instantáneas, donde cada instantánea encapsula el estado completo de los archivos / carpetas dentro de un directorio de nivel superior\". \n",
    "\n",
    ">Lo importante del sistema de control de versiones es que ayuda a tener un mejor control respecto al desarrollo de algún programa que se desee ejecutar, dicho de otra forma controlar el desarrollo de un proyecto, plenamente elaborado y planeado y así minimizar los errores que se puedan cometer en el camino. "
   ]
  },
  {
   "attachments": {},
   "cell_type": "markdown",
   "metadata": {},
   "source": [
    "### ¿Cuál es la diferencia principal entre git y github?"
   ]
  },
  {
   "attachments": {},
   "cell_type": "markdown",
   "metadata": {},
   "source": [
    ">\"GitHub facilita al usauario la colaboración con git para un mejor control, es una plataforma que contiene repositorios de código (código abierto) en almacenamiento basado en la nube o guardado en la nube para que los desarrolladores trabajen en un solo proyecto y ver las ediciones que las demás personas realizan en tiempor real. \n",
    "\n",
    ">Existen tres acciones principales, en las que se interactúa con el código de otros desarrolladores en Github:\n",
    "\n",
    "- Bifuración: Es el proceso de copiar el código de otro desde el repositorio para modificarlo. \n",
    "- Extracción: Cuando se hayan finalizado los cambios, se comparten con el propietario original a través de una solicitud de extracción.\n",
    "- Fusionar: Cada propietario tiene la capacidad de agregar nuevos cambios, y así dar los créditos a quientes hicieron la sugerencia. \n",
    "\n",
    ">Por lo tanto, en resumen *Git* es un software de control de versiones local, que permite hacerlo de forma individual, y *GitHub* es una plataforma en la nube en la que se incorporan funciones de control de versiones para git, y lo más importante que existe *Colaboración*"
   ]
  },
  {
   "attachments": {},
   "cell_type": "markdown",
   "metadata": {},
   "source": [
    "### ¿En dónde se puede encontrar la información principal de \"Git\" y su descarga?"
   ]
  },
  {
   "attachments": {},
   "cell_type": "markdown",
   "metadata": {},
   "source": [
    "> En la siguiente imagen se logra observar la información principal de **Git** en su página (https://git-scm.com/), adicional brinda la forma de descargar git para el sistema operativo que se tenga, en el caso del autor como ya tiene Windows da la opción de descarga automática para Windows, entonces solo se descarga y luego se ejecuta el programa, para después darle *siguiente, siguiente ...*. posterior a ello ya se puede empezar a trabajar con **Git Bash** en el sistema operativo mencionado, para configurarlo en la máquina. \n",
    "\n",
    ">A continuación se brinda una imagen en la que se visualiza la información principal de git, bajo su principal enfoque u objetivo que es optimizar el tiempo por medio de repositorios."
   ]
  },
  {
   "attachments": {},
   "cell_type": "markdown",
   "metadata": {},
   "source": [
    "![git](/Esteequipo/Descargas/git.png)"
   ]
  },
  {
   "attachments": {},
   "cell_type": "markdown",
   "metadata": {},
   "source": [
    "### Flujo de trabajo básico de Git"
   ]
  },
  {
   "attachments": {},
   "cell_type": "markdown",
   "metadata": {},
   "source": [
    ">De acuerdo a información publicada en FreeCodeCamp (https://www.freecodecamp.org/espanol/news/git-vs-github-what-is-version-control-and-how-does-it-work/) el sistema de control de versiones trabaja como sigue: \n",
    "\n",
    "![flujogit](/Esteequipo/Descargas/git2.png)"
   ]
  },
  {
   "attachments": {},
   "cell_type": "markdown",
   "metadata": {},
   "source": [
    ">Para detallarlo de mejor forma, git tiene el siguiente ambiente de trabajo:\n",
    "1. Modificar archivos en el directorio de trabajo, \n",
    "2. Preparar selectivamente los archivos que se quieran confirmar al directorio .git, \n",
    "3. Confirma el o los archivos que se han preparado en el directorio .git."
   ]
  },
  {
   "attachments": {},
   "cell_type": "markdown",
   "metadata": {},
   "source": [
    "### Principales ventajas de los Sistemas de Control de Versiones"
   ]
  },
  {
   "attachments": {},
   "cell_type": "markdown",
   "metadata": {},
   "source": [
    ">Las principales ventajas son:\n",
    "1. Utiliza un historial completo de cambios a lo largo del tiempo o a largo plazo en los diferentes archivos que se trabajen,\n",
    "2. Creación de ramas y fusiones,\n",
    "3. Existe trazabilidad, es decir que es capaz de trazar cada cambio que se hace en el software y conectarlos a un software de gestión de proyectos, y seguimiento de errores. "
   ]
  },
  {
   "attachments": {},
   "cell_type": "markdown",
   "metadata": {},
   "source": [
    "### Algunos requisitos para trabajar o usar \"Git y GitHub\""
   ]
  },
  {
   "attachments": {},
   "cell_type": "markdown",
   "metadata": {},
   "source": [
    "- Es necesario tener una computadora de escritorio con Git instalado.\n",
    "- Tener una herramienta para usar Git, esto depende de cómo le guste trabajar al usuario, o simplemente una ventana de terminal, de hecho en Windows lo sugerible es trabajar con ***Git Bash**,\n",
    "- Por último para publicar los proyectos que se realicen o se deseen controlar es necesario tener una cuenta en _GitHub_"
   ]
  },
  {
   "attachments": {},
   "cell_type": "markdown",
   "metadata": {},
   "source": [
    "### Algunos ejemplos de comandos de git"
   ]
  },
  {
   "attachments": {},
   "cell_type": "markdown",
   "metadata": {},
   "source": [
    "| Left-aligned | Center-aligned | Right-aligned |\n",
    "|---| --- | --- |\n",
    "| git status | git status | git status |\n",
    "| git diff | git diff | git diff |\n"
   ]
  },
  {
   "attachments": {},
   "cell_type": "markdown",
   "metadata": {},
   "source": [
    ">Finalmente, según lo publicado en (https://missing.csail.mit.edu/2020/version-control/), un repositorio de **Git**, son los datos _objets_ y _references_. En el disco, todas las tiendas de Git son objetos y referencias: eso es todo lo que hay en el modelo de datos de Git. Todos git los comandos se asignan a alguna manipulación del DAG de confirmacióin agregando objetos y agregando / actualizando referencias. \n",
    ">Cada vez que se escriba cualquier comando, es necesario pensar en qué manipulación está haciendo el comando en la estructura de datos del gráfico subyacente. Por el contratio, si está tratando de realizar un tipo particular de cambio en el DAG  de confirmación, por ejemplo, descartar los cambios no confirmados y hacer lo que la referencia maestra apunte a confirmar, probablemente haya un comando para hacerlo. "
   ]
  },
  {
   "attachments": {},
   "cell_type": "markdown",
   "metadata": {},
   "source": [
    "### Principales comandos "
   ]
  },
  {
   "attachments": {},
   "cell_type": "markdown",
   "metadata": {},
   "source": [
    "- git help <command>: obtener ayuda para un comando git\n",
    "- git init: crea un nuevo repositorio git, con datos almacenados en el .gitdirectorio\n",
    "- git status: te dice lo que está pasando\n",
    "- git add <filename>: agrega archivos al área de ensayo\n",
    "- git log: muestra un registro aplanado de la historia\n",
    "- git log --all --graph --decorate: visualiza la historia como un DAG\n",
    "- git diff <filename>: muestra los cambios que realizó en relación con el área de preparación\n",
    "- git diff <revision> <filename>: muestra las diferencias en un archivo entre instantáneas\n",
    "- git checkout <revision>: actualiza HEAD y rama actual"
   ]
  },
  {
   "attachments": {},
   "cell_type": "markdown",
   "metadata": {},
   "source": [
    "### Comandos para Ramificación y Fusión"
   ]
  },
  {
   "attachments": {},
   "cell_type": "markdown",
   "metadata": {},
   "source": [
    "- git branch: muestra ramas\n",
    "- git branch <name>: crea una rama\n",
    "- git checkout -b <name>: crea una rama y cambia a ella\n",
    "    - igual quegit branch <name>; git checkout <name>\n",
    "- git merge <revision>: se fusiona con la rama actual\n",
    "- git mergetool: use una herramienta elegante para ayudar a resolver conflictos de fusión\n",
    "- git rebase: rebase conjunto de parches en una nueva base"
   ]
  },
  {
   "attachments": {},
   "cell_type": "markdown",
   "metadata": {},
   "source": [
    "### Comandos para Controles Remotos "
   ]
  },
  {
   "attachments": {},
   "cell_type": "markdown",
   "metadata": {},
   "source": [
    "- git remote: lista de controles remotos\n",
    "- git remote add <name> <url>: agregar un control remoto\n",
    "- git push <remote> <local branch>:<remote branch>: enviar objetos al control remoto y actualizar la referencia remota\n",
    "- git branch --set-upstream-to=<remote>/<remote branch>: configurar la correspondencia entre la sucursal local y remota\n",
    "- git fetch: recuperar objetos/referencias desde un control remoto\n",
    "- git pull: igual quegit fetch; git merge\n",
    "- git clone: descargar repositorio desde remoto"
   ]
  },
  {
   "attachments": {},
   "cell_type": "markdown",
   "metadata": {},
   "source": [
    "### Comandos para Deshacer"
   ]
  },
  {
   "attachments": {},
   "cell_type": "markdown",
   "metadata": {},
   "source": [
    "- git commit --amend: editar el contenido/mensaje de una confirmación\n",
    "- git reset HEAD <file>: desorganizar un archivo\n",
    "- git checkout -- <file>: descartar los cambios"
   ]
  },
  {
   "attachments": {},
   "cell_type": "markdown",
   "metadata": {},
   "source": [
    "### Comandos Avanzados"
   ]
  },
  {
   "attachments": {},
   "cell_type": "markdown",
   "metadata": {},
   "source": [
    "- git config: Git es altamente personalizable\n",
    "- git clone --depth=1: clon superficial, sin historial completo de versiones\n",
    "- git add -p: puesta en escena interactiva\n",
    "- git rebase -i: rebase interactivo\n",
    "- git blame: muestra quién editó por última vez qué línea\n",
    "- git stash: elimina temporalmente las modificaciones del directorio de trabajo\n",
    "- git bisect: historial de búsqueda binaria (por ejemplo, para regresiones)\n",
    "- .gitignore: especificar archivos intencionalmente sin seguimiento para ignorar"
   ]
  },
  {
   "attachments": {},
   "cell_type": "markdown",
   "metadata": {},
   "source": [
    "## Conclusión"
   ]
  },
  {
   "attachments": {},
   "cell_type": "markdown",
   "metadata": {},
   "source": [
    ">_Es de suma importancia optimizar el trabajo que se realiza en cualquier área de la vida, por ello al aplicarlo en programación, Git y GitHub, son herramiemientas de apoyo para el usuario que quiera desarrollar código, entonces hasta de forma interactiva o dinámica se trabaja en el ambiente git, para ser eficientes y minimizar tiempos_\n",
    "\n",
    ">Con esto se culmina el trabajo sobre **Git y Git Hub**, quedando atentos a cualquier sugerencia para la mejora continua. \n"
   ]
  },
  {
   "attachments": {},
   "cell_type": "markdown",
   "metadata": {},
   "source": [
    "## Referencias"
   ]
  },
  {
   "attachments": {},
   "cell_type": "markdown",
   "metadata": {},
   "source": [
    "- (https://missing.csail.mit.edu/2020/version-control/)\n",
    "- (https://kinsta.com/blog/wordpress-version-control/)\n",
    "- (https://www.freecodecamp.org/espanol/news/git-vs-github-what-is-version-control-and-how-does-it-work/)\n",
    "- (https://git-scm.com/)\n",
    "- (https://www.atlassian.com/es/git/tutorials/what-is-version-control)\n",
    "- (https://developer.mozilla.org/en-US/docs/Learn/Tools_and_testing/GitHub)\n",
    "- (https://tutorialmarkdown.com/sintaxis-extendida)"
   ]
  }
 ],
 "metadata": {
  "kernelspec": {
   "display_name": "Python 3",
   "language": "python",
   "name": "python3"
  },
  "language_info": {
   "name": "python",
   "version": "3.11.1"
  },
  "orig_nbformat": 4,
  "vscode": {
   "interpreter": {
    "hash": "5238573367df39f7286bb46f9ff5f08f63a01a80960060ce41e3c79b190280fa"
   }
  }
 },
 "nbformat": 4,
 "nbformat_minor": 2
}
